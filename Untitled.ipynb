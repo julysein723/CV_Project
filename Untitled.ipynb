{
 "cells": [
  {
   "cell_type": "code",
   "execution_count": null,
   "id": "modular-classification",
   "metadata": {},
   "outputs": [],
   "source": [
    "from tensorflow import keras\n",
    "from tensorflow .keras import layers\n",
    "import numpy as np"
   ]
  },
  {
   "cell_type": "code",
   "execution_count": null,
   "id": "handed-progress",
   "metadata": {},
   "outputs": [],
   "source": [
    "training_data = np.array([1., 2.], [2., 3.], [3., 4.], [4., 5.], [5., 6.])\n",
    "target_data = np.array([3., 2.], [5., 6.], [7., 12.], [9., 20.], [11., 30.])"
   ]
  },
  {
   "cell_type": "code",
   "execution_count": null,
   "id": "stock-matter",
   "metadata": {},
   "outputs": [],
   "source": [
    "Inputs = keras.Input(shape=(2))\n",
    "outputs = layers.Dense(2, activation='linear')(Inputs)\n",
    "\n",
    "model = keras.Model(inputs=Inputs, outputs=outputs, name='linear2d')\n",
    "\n",
    "model.compile(loss='mse', optimizer='sgd', metrics = ['accuracy'])\n",
    "#손실 함수, 최적화, 평가 방법\n",
    "model.fit(training_data, target_data, epochs=100, verbose=3)"
   ]
  },
  {
   "cell_type": "markdown",
   "id": "seven-elder",
   "metadata": {},
   "source": [
    "Define model"
   ]
  },
  {
   "cell_type": "code",
   "execution_count": null,
   "id": "narrow-kernel",
   "metadata": {},
   "outputs": [],
   "source": [
    "print(model.summary())\n",
    "print(model.layers[1].get_weights())"
   ]
  },
  {
   "cell_type": "code",
   "execution_count": null,
   "id": "ancient-hartford",
   "metadata": {},
   "outputs": [],
   "source": [
    "inp = list(map(int, input().split()))\n",
    "inp = np.array(inp)"
   ]
  },
  {
   "cell_type": "code",
   "execution_count": null,
   "id": "presidential-communications",
   "metadata": {},
   "outputs": [],
   "source": [
    "print(\"입력:{}\".format(inp))"
   ]
  },
  {
   "cell_type": "code",
   "execution_count": null,
   "id": "multiple-brain",
   "metadata": {},
   "outputs": [],
   "source": [
    "inp=inp.reshape(1,2)"
   ]
  },
  {
   "cell_type": "code",
   "execution_count": null,
   "id": "elementary-camera",
   "metadata": {},
   "outputs": [],
   "source": [
    "print(\"결과값: {}\".format(model.predict(inp)[0].round()))"
   ]
  },
  {
   "cell_type": "code",
   "execution_count": null,
   "id": "english-biotechnology",
   "metadata": {},
   "outputs": [],
   "source": []
  }
 ],
 "metadata": {
  "kernelspec": {
   "display_name": "Python 3",
   "language": "python",
   "name": "python3"
  },
  "language_info": {
   "codemirror_mode": {
    "name": "ipython",
    "version": 3
   },
   "file_extension": ".py",
   "mimetype": "text/x-python",
   "name": "python",
   "nbconvert_exporter": "python",
   "pygments_lexer": "ipython3",
   "version": "3.8.8"
  }
 },
 "nbformat": 4,
 "nbformat_minor": 5
}
